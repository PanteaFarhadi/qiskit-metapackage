{
 "cells":[
  {
   "cell_type":"code",
   "source":[
    "from qiskit import QuantumCircuit, QuantumRegister, ClassicalRegister\n",
    "from qiskit import execute, Aer\n",
    "\n",
    "# Create a quantum circuit with 5 qubits\n",
    "qr = QuantumRegister(5, name=\"qr\")\n",
    "cr = ClassicalRegister(5, name=\"cr\")\n",
    "circuit = QuantumCircuit(qr, cr)\n",
    "circuit.x([0, 4])\n",
    "circuit.h(4)\n",
    "circuit.mcx(list(range(0, 3)), 4)\n",
    "circuit.h(4)\n",
    "circuit.measure(qr, cr)\n",
    "\n",
    "# Draw the circuit\n",
    "circuit.draw()"
   ],
   "execution_count":1,
   "outputs":[
    {
     "data":{
      "text\/html":[
       "<pre style=\"word-wrap: normal;white-space: pre;background: #fff0;line-height: 1.1;font-family: &quot;Courier New&quot;,Courier,monospace\">      ┌───┐                  ┌─┐         \n",
       "qr_0: ┤ X ├──────────■───────┤M├─────────\n",
       "      └───┘          │       └╥┘┌─┐      \n",
       "qr_1: ───────────────■────────╫─┤M├──────\n",
       "                     │        ║ └╥┘┌─┐   \n",
       "qr_2: ───────────────■────────╫──╫─┤M├───\n",
       "           ┌─┐       │        ║  ║ └╥┘   \n",
       "qr_3: ─────┤M├───────┼────────╫──╫──╫────\n",
       "      ┌───┐└╥┘┌───┐┌─┴─┐┌───┐ ║  ║  ║ ┌─┐\n",
       "qr_4: ┤ X ├─╫─┤ H ├┤ X ├┤ H ├─╫──╫──╫─┤M├\n",
       "      └───┘ ║ └───┘└───┘└───┘ ║  ║  ║ └╥┘\n",
       "cr: 5\/══════╩═════════════════╩══╩══╩══╩═\n",
       "            3                 0  1  2  4 <\/pre>"
      ]
     },
     "metadata":{
      
     },
     "output_type":"display_data"
    }
   ],
   "metadata":{
    "datalore":{
     "node_id":"PSSKDHjHSxub8rmPGgkvKE",
     "type":"CODE",
     "hide_input_from_viewers":true,
     "hide_output_from_viewers":true
    }
   }
  },
  {
   "cell_type":"code",
   "source":[
    "from qiskit import QuantumCircuit, execute, Aer\n",
    "# Create a quantum circuit\n",
    "qc = QuantumCircuit(5)\n",
    "#initilzing the desired state\n",
    "#in a more general code this step is not included\n",
    "qc.x([0, 2, 3])\n",
    "# modifying the circuit to come up with |11111> state\n",
    "qc.x([1,4])\n",
    "#applying a mcz gate on qc[0]\n",
    "qc.h(4)\n",
    "qc.mcx(list(range(0, 3)), 4)\n",
    "qc.h(4)\n",
    "#getting back to original state\n",
    "qc.x([1, 4])\n",
    "# Simulate the circuit using the StatevectorSimulator backend\n",
    "backend = Aer.get_backend('statevector_simulator')\n",
    "job = execute(qc, backend)\n",
    "result = job.result()\n",
    "# Get the state vector\n",
    "statevector = result.get_statevector()\n",
    "statevector.draw(output = 'latex')"
   ],
   "execution_count":1,
   "outputs":[
    {
     "data":{
      "text\/latex":[
       "$$- |01101\\rangle$$"
      ]
     },
     "metadata":{
      
     },
     "output_type":"display_data"
    }
   ],
   "metadata":{
    "datalore":{
     "node_id":"gu1VmtWKPfoNYyLhyeC6FF",
     "type":"CODE",
     "hide_input_from_viewers":true,
     "hide_output_from_viewers":true
    }
   }
  }
 ],
 "metadata":{
  "kernelspec":{
   "display_name":"Python",
   "language":"python",
   "name":"python"
  },
  "datalore":{
   "computation_mode":"JUPYTER",
   "package_manager":"pip",
   "base_environment":"default",
   "packages":[
    {
     "name":"qiskit",
     "source":"PIP"
    },
    {
     "name":"qiskit-aer",
     "version":"0.12.2",
     "source":"PIP"
    }
   ],
   "report_row_ids":[
    
   ],
   "version":3
  }
 },
 "nbformat":4,
 "nbformat_minor":4
}